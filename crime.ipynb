{
 "cells": [
  {
   "cell_type": "code",
   "execution_count": 1,
   "metadata": {
    "collapsed": true
   },
   "outputs": [],
   "source": [
    "import pandas as pd\n",
    "import re \n",
    "import numpy as np\n",
    "import matplotlib.pyplot as plt\n",
    "from matplotlib import colors as mcolors\n",
    "from mpl_toolkits.mplot3d import Axes3D\n",
    "import locale\n",
    "from locale import atof\n",
    "import seaborn as sns\n",
    "import gmaps\n",
    "import gmaps.datasets\n",
    "import os\n",
    "gmaps.configure(api_key=os.environ[\"GOOGLE_API_KEY\"])\n",
    "from scipy.stats import chi2\n",
    "from scipy.stats import chisquare"
   ]
  },
  {
   "cell_type": "code",
   "execution_count": 2,
   "metadata": {
    "collapsed": true
   },
   "outputs": [],
   "source": [
    "sns.set_palette('deep',desat = .6)\n",
    "sns.set_context(rc = {'figure.figsize':(8,4)})"
   ]
  },
  {
   "cell_type": "code",
   "execution_count": 3,
   "metadata": {
    "collapsed": true
   },
   "outputs": [],
   "source": [
    "crime = pd.read_csv('BostonCrime/crime.csv')"
   ]
  },
  {
   "cell_type": "markdown",
   "metadata": {},
   "source": [
    "Number of bins for a longitude/latitude grid across the city:"
   ]
  },
  {
   "cell_type": "code",
   "execution_count": 4,
   "metadata": {
    "collapsed": true
   },
   "outputs": [],
   "source": [
    "numbins = 50"
   ]
  },
  {
   "cell_type": "code",
   "execution_count": 5,
   "metadata": {},
   "outputs": [
    {
     "data": {
      "text/plain": [
       "(195622, 17)"
      ]
     },
     "execution_count": 5,
     "metadata": {},
     "output_type": "execute_result"
    }
   ],
   "source": [
    "crime.shape"
   ]
  },
  {
   "cell_type": "code",
   "execution_count": 6,
   "metadata": {
    "collapsed": true
   },
   "outputs": [],
   "source": [
    "pd.set_option('display.max_rows',20)"
   ]
  },
  {
   "cell_type": "code",
   "execution_count": 7,
   "metadata": {
    "scrolled": false
   },
   "outputs": [
    {
     "data": {
      "text/html": [
       "<div>\n",
       "<table border=\"1\" class=\"dataframe\">\n",
       "  <thead>\n",
       "    <tr style=\"text-align: right;\">\n",
       "      <th></th>\n",
       "      <th>INCIDENT_NUMBER</th>\n",
       "      <th>OFFENSE_CODE</th>\n",
       "      <th>OFFENSE_CODE_GROUP</th>\n",
       "      <th>OFFENSE_DESCRIPTION</th>\n",
       "      <th>DISTRICT</th>\n",
       "      <th>REPORTING_AREA</th>\n",
       "      <th>SHOOTING</th>\n",
       "      <th>OCCURRED_ON_DATE</th>\n",
       "      <th>YEAR</th>\n",
       "      <th>MONTH</th>\n",
       "      <th>DAY_OF_WEEK</th>\n",
       "      <th>HOUR</th>\n",
       "      <th>UCR_PART</th>\n",
       "      <th>STREET</th>\n",
       "      <th>Lat</th>\n",
       "      <th>Long</th>\n",
       "      <th>Location</th>\n",
       "    </tr>\n",
       "  </thead>\n",
       "  <tbody>\n",
       "    <tr>\n",
       "      <th>0</th>\n",
       "      <td>I172047308</td>\n",
       "      <td>3006</td>\n",
       "      <td>Medical Assistance</td>\n",
       "      <td>SICK/INJURED/MEDICAL - PERSON</td>\n",
       "      <td>D4</td>\n",
       "      <td>130</td>\n",
       "      <td>NaN</td>\n",
       "      <td>2017-06-13 21:55:00</td>\n",
       "      <td>2017</td>\n",
       "      <td>6</td>\n",
       "      <td>Tuesday</td>\n",
       "      <td>21</td>\n",
       "      <td>Part Three</td>\n",
       "      <td>HUNTINGTON AVE</td>\n",
       "      <td>42.348577</td>\n",
       "      <td>-71.077720</td>\n",
       "      <td>(42.34857652, -71.07772012)</td>\n",
       "    </tr>\n",
       "    <tr>\n",
       "      <th>1</th>\n",
       "      <td>I172047296</td>\n",
       "      <td>802</td>\n",
       "      <td>Simple Assault</td>\n",
       "      <td>ASSAULT SIMPLE - BATTERY</td>\n",
       "      <td>B2</td>\n",
       "      <td>326</td>\n",
       "      <td>NaN</td>\n",
       "      <td>2017-06-13 20:53:00</td>\n",
       "      <td>2017</td>\n",
       "      <td>6</td>\n",
       "      <td>Tuesday</td>\n",
       "      <td>20</td>\n",
       "      <td>Part Two</td>\n",
       "      <td>QUINCY ST</td>\n",
       "      <td>42.313322</td>\n",
       "      <td>-71.075915</td>\n",
       "      <td>(42.31332153, -71.07591511)</td>\n",
       "    </tr>\n",
       "    <tr>\n",
       "      <th>2</th>\n",
       "      <td>I172047293</td>\n",
       "      <td>802</td>\n",
       "      <td>Simple Assault</td>\n",
       "      <td>ASSAULT SIMPLE - BATTERY</td>\n",
       "      <td>B2</td>\n",
       "      <td>331</td>\n",
       "      <td>NaN</td>\n",
       "      <td>2017-06-13 21:01:00</td>\n",
       "      <td>2017</td>\n",
       "      <td>6</td>\n",
       "      <td>Tuesday</td>\n",
       "      <td>21</td>\n",
       "      <td>Part Two</td>\n",
       "      <td>BAKER AVE</td>\n",
       "      <td>42.312387</td>\n",
       "      <td>-71.070862</td>\n",
       "      <td>(42.31238668, -71.07086154)</td>\n",
       "    </tr>\n",
       "    <tr>\n",
       "      <th>3</th>\n",
       "      <td>I172047291</td>\n",
       "      <td>706</td>\n",
       "      <td>Auto Theft</td>\n",
       "      <td>AUTO THEFT - MOTORCYCLE / SCOOTER</td>\n",
       "      <td>A1</td>\n",
       "      <td>67</td>\n",
       "      <td>NaN</td>\n",
       "      <td>2017-06-06 09:00:00</td>\n",
       "      <td>2017</td>\n",
       "      <td>6</td>\n",
       "      <td>Tuesday</td>\n",
       "      <td>9</td>\n",
       "      <td>Part One</td>\n",
       "      <td>ANDERSON ST</td>\n",
       "      <td>42.360306</td>\n",
       "      <td>-71.067789</td>\n",
       "      <td>(42.36030562, -71.06778870)</td>\n",
       "    </tr>\n",
       "    <tr>\n",
       "      <th>4</th>\n",
       "      <td>I172047289</td>\n",
       "      <td>3301</td>\n",
       "      <td>Verbal Disputes</td>\n",
       "      <td>VERBAL DISPUTE</td>\n",
       "      <td>E18</td>\n",
       "      <td>516</td>\n",
       "      <td>NaN</td>\n",
       "      <td>2017-06-13 21:01:00</td>\n",
       "      <td>2017</td>\n",
       "      <td>6</td>\n",
       "      <td>Tuesday</td>\n",
       "      <td>21</td>\n",
       "      <td>Part Three</td>\n",
       "      <td>TRUMAN PKWY</td>\n",
       "      <td>42.251278</td>\n",
       "      <td>-71.120194</td>\n",
       "      <td>(42.25127804, -71.12019402)</td>\n",
       "    </tr>\n",
       "    <tr>\n",
       "      <th>5</th>\n",
       "      <td>I172047288</td>\n",
       "      <td>3114</td>\n",
       "      <td>Investigate Property</td>\n",
       "      <td>INVESTIGATE PROPERTY</td>\n",
       "      <td>NaN</td>\n",
       "      <td></td>\n",
       "      <td>NaN</td>\n",
       "      <td>2017-06-13 21:33:00</td>\n",
       "      <td>2017</td>\n",
       "      <td>6</td>\n",
       "      <td>Tuesday</td>\n",
       "      <td>21</td>\n",
       "      <td>Part Three</td>\n",
       "      <td>NaN</td>\n",
       "      <td>42.308064</td>\n",
       "      <td>-71.065067</td>\n",
       "      <td>(42.30806374, -71.06506719)</td>\n",
       "    </tr>\n",
       "    <tr>\n",
       "      <th>6</th>\n",
       "      <td>I172047287</td>\n",
       "      <td>2629</td>\n",
       "      <td>Harassment</td>\n",
       "      <td>HARASSMENT</td>\n",
       "      <td>B2</td>\n",
       "      <td>324</td>\n",
       "      <td>NaN</td>\n",
       "      <td>2017-06-13 21:42:00</td>\n",
       "      <td>2017</td>\n",
       "      <td>6</td>\n",
       "      <td>Tuesday</td>\n",
       "      <td>21</td>\n",
       "      <td>Part Two</td>\n",
       "      <td>DANUBE ST</td>\n",
       "      <td>42.317439</td>\n",
       "      <td>-71.075478</td>\n",
       "      <td>(42.31743922, -71.07547845)</td>\n",
       "    </tr>\n",
       "    <tr>\n",
       "      <th>7</th>\n",
       "      <td>I172047286</td>\n",
       "      <td>1830</td>\n",
       "      <td>Drug Violation</td>\n",
       "      <td>DRUGS - SICK ASSIST - HEROIN</td>\n",
       "      <td>D4</td>\n",
       "      <td></td>\n",
       "      <td>NaN</td>\n",
       "      <td>2017-06-13 21:12:00</td>\n",
       "      <td>2017</td>\n",
       "      <td>6</td>\n",
       "      <td>Tuesday</td>\n",
       "      <td>21</td>\n",
       "      <td>Part Two</td>\n",
       "      <td>NaN</td>\n",
       "      <td>42.344316</td>\n",
       "      <td>-71.074464</td>\n",
       "      <td>(42.34431640, -71.07446411)</td>\n",
       "    </tr>\n",
       "    <tr>\n",
       "      <th>8</th>\n",
       "      <td>I172047283</td>\n",
       "      <td>3831</td>\n",
       "      <td>Motor Vehicle Accident Response</td>\n",
       "      <td>M/V - LEAVING SCENE - PROPERTY DAMAGE</td>\n",
       "      <td>C11</td>\n",
       "      <td>235</td>\n",
       "      <td>NaN</td>\n",
       "      <td>2017-05-28 09:00:00</td>\n",
       "      <td>2017</td>\n",
       "      <td>5</td>\n",
       "      <td>Sunday</td>\n",
       "      <td>9</td>\n",
       "      <td>Part Three</td>\n",
       "      <td>BUTTONWOOD ST</td>\n",
       "      <td>42.320878</td>\n",
       "      <td>-71.055852</td>\n",
       "      <td>(42.32087815, -71.05585215)</td>\n",
       "    </tr>\n",
       "    <tr>\n",
       "      <th>9</th>\n",
       "      <td>I172047282</td>\n",
       "      <td>3115</td>\n",
       "      <td>Investigate Person</td>\n",
       "      <td>INVESTIGATE PERSON</td>\n",
       "      <td>NaN</td>\n",
       "      <td></td>\n",
       "      <td>NaN</td>\n",
       "      <td>2017-06-13 20:45:00</td>\n",
       "      <td>2017</td>\n",
       "      <td>6</td>\n",
       "      <td>Tuesday</td>\n",
       "      <td>20</td>\n",
       "      <td>Part Three</td>\n",
       "      <td>NaN</td>\n",
       "      <td>42.335066</td>\n",
       "      <td>-71.078791</td>\n",
       "      <td>(42.33506554, -71.07879088)</td>\n",
       "    </tr>\n",
       "    <tr>\n",
       "      <th>...</th>\n",
       "      <td>...</td>\n",
       "      <td>...</td>\n",
       "      <td>...</td>\n",
       "      <td>...</td>\n",
       "      <td>...</td>\n",
       "      <td>...</td>\n",
       "      <td>...</td>\n",
       "      <td>...</td>\n",
       "      <td>...</td>\n",
       "      <td>...</td>\n",
       "      <td>...</td>\n",
       "      <td>...</td>\n",
       "      <td>...</td>\n",
       "      <td>...</td>\n",
       "      <td>...</td>\n",
       "      <td>...</td>\n",
       "      <td>...</td>\n",
       "    </tr>\n",
       "    <tr>\n",
       "      <th>195612</th>\n",
       "      <td>I090317057-00</td>\n",
       "      <td>403</td>\n",
       "      <td>Aggravated Assault</td>\n",
       "      <td>ASSAULT &amp; BATTERY D/W - OTHER</td>\n",
       "      <td>B3</td>\n",
       "      <td>458</td>\n",
       "      <td>NaN</td>\n",
       "      <td>2015-11-20 11:15:00</td>\n",
       "      <td>2015</td>\n",
       "      <td>11</td>\n",
       "      <td>Friday</td>\n",
       "      <td>11</td>\n",
       "      <td>Part One</td>\n",
       "      <td>BLUE HILL AVE</td>\n",
       "      <td>42.301897</td>\n",
       "      <td>-71.085549</td>\n",
       "      <td>(42.30189690, -71.08554944)</td>\n",
       "    </tr>\n",
       "    <tr>\n",
       "      <th>195613</th>\n",
       "      <td>I090317057-00</td>\n",
       "      <td>3125</td>\n",
       "      <td>Warrant Arrests</td>\n",
       "      <td>WARRANT ARREST</td>\n",
       "      <td>B3</td>\n",
       "      <td>458</td>\n",
       "      <td>NaN</td>\n",
       "      <td>2015-11-20 11:15:00</td>\n",
       "      <td>2015</td>\n",
       "      <td>11</td>\n",
       "      <td>Friday</td>\n",
       "      <td>11</td>\n",
       "      <td>Part Three</td>\n",
       "      <td>BLUE HILL AVE</td>\n",
       "      <td>42.301897</td>\n",
       "      <td>-71.085549</td>\n",
       "      <td>(42.30189690, -71.08554944)</td>\n",
       "    </tr>\n",
       "    <tr>\n",
       "      <th>195614</th>\n",
       "      <td>I080542626-00</td>\n",
       "      <td>3125</td>\n",
       "      <td>Warrant Arrests</td>\n",
       "      <td>WARRANT ARREST</td>\n",
       "      <td>A1</td>\n",
       "      <td>111</td>\n",
       "      <td>NaN</td>\n",
       "      <td>2015-08-12 12:00:00</td>\n",
       "      <td>2015</td>\n",
       "      <td>8</td>\n",
       "      <td>Wednesday</td>\n",
       "      <td>12</td>\n",
       "      <td>Part Three</td>\n",
       "      <td>BOYLSTON ST</td>\n",
       "      <td>42.352312</td>\n",
       "      <td>-71.063705</td>\n",
       "      <td>(42.35231190, -71.06370510)</td>\n",
       "    </tr>\n",
       "    <tr>\n",
       "      <th>195615</th>\n",
       "      <td>I080542626-00</td>\n",
       "      <td>1848</td>\n",
       "      <td>Drug Violation</td>\n",
       "      <td>DRUGS - POSS CLASS B - INTENT TO MFR DIST DISP</td>\n",
       "      <td>A1</td>\n",
       "      <td>111</td>\n",
       "      <td>NaN</td>\n",
       "      <td>2015-08-12 12:00:00</td>\n",
       "      <td>2015</td>\n",
       "      <td>8</td>\n",
       "      <td>Wednesday</td>\n",
       "      <td>12</td>\n",
       "      <td>Part Two</td>\n",
       "      <td>BOYLSTON ST</td>\n",
       "      <td>42.352312</td>\n",
       "      <td>-71.063705</td>\n",
       "      <td>(42.35231190, -71.06370510)</td>\n",
       "    </tr>\n",
       "    <tr>\n",
       "      <th>195616</th>\n",
       "      <td>I080542626-00</td>\n",
       "      <td>1849</td>\n",
       "      <td>Drug Violation</td>\n",
       "      <td>DRUGS - POSS CLASS B - COCAINE, ETC.</td>\n",
       "      <td>A1</td>\n",
       "      <td>111</td>\n",
       "      <td>NaN</td>\n",
       "      <td>2015-08-12 12:00:00</td>\n",
       "      <td>2015</td>\n",
       "      <td>8</td>\n",
       "      <td>Wednesday</td>\n",
       "      <td>12</td>\n",
       "      <td>Part Two</td>\n",
       "      <td>BOYLSTON ST</td>\n",
       "      <td>42.352312</td>\n",
       "      <td>-71.063705</td>\n",
       "      <td>(42.35231190, -71.06370510)</td>\n",
       "    </tr>\n",
       "    <tr>\n",
       "      <th>195617</th>\n",
       "      <td>I050310906-00</td>\n",
       "      <td>3125</td>\n",
       "      <td>Warrant Arrests</td>\n",
       "      <td>WARRANT ARREST</td>\n",
       "      <td>D4</td>\n",
       "      <td>285</td>\n",
       "      <td>NaN</td>\n",
       "      <td>2016-06-05 17:25:00</td>\n",
       "      <td>2016</td>\n",
       "      <td>6</td>\n",
       "      <td>Sunday</td>\n",
       "      <td>17</td>\n",
       "      <td>Part Three</td>\n",
       "      <td>COVENTRY ST</td>\n",
       "      <td>42.336951</td>\n",
       "      <td>-71.085748</td>\n",
       "      <td>(42.33695098, -71.08574813)</td>\n",
       "    </tr>\n",
       "    <tr>\n",
       "      <th>195618</th>\n",
       "      <td>I030217815-08</td>\n",
       "      <td>111</td>\n",
       "      <td>Homicide</td>\n",
       "      <td>MURDER, NON-NEGLIGIENT MANSLAUGHTER</td>\n",
       "      <td>E18</td>\n",
       "      <td>520</td>\n",
       "      <td>NaN</td>\n",
       "      <td>2015-07-09 13:38:00</td>\n",
       "      <td>2015</td>\n",
       "      <td>7</td>\n",
       "      <td>Thursday</td>\n",
       "      <td>13</td>\n",
       "      <td>Part One</td>\n",
       "      <td>RIVER ST</td>\n",
       "      <td>42.255926</td>\n",
       "      <td>-71.123172</td>\n",
       "      <td>(42.25592648, -71.12317207)</td>\n",
       "    </tr>\n",
       "    <tr>\n",
       "      <th>195619</th>\n",
       "      <td>I030217815-08</td>\n",
       "      <td>3125</td>\n",
       "      <td>Warrant Arrests</td>\n",
       "      <td>WARRANT ARREST</td>\n",
       "      <td>E18</td>\n",
       "      <td>520</td>\n",
       "      <td>NaN</td>\n",
       "      <td>2015-07-09 13:38:00</td>\n",
       "      <td>2015</td>\n",
       "      <td>7</td>\n",
       "      <td>Thursday</td>\n",
       "      <td>13</td>\n",
       "      <td>Part Three</td>\n",
       "      <td>RIVER ST</td>\n",
       "      <td>42.255926</td>\n",
       "      <td>-71.123172</td>\n",
       "      <td>(42.25592648, -71.12317207)</td>\n",
       "    </tr>\n",
       "    <tr>\n",
       "      <th>195620</th>\n",
       "      <td>I010370257-00</td>\n",
       "      <td>3125</td>\n",
       "      <td>Warrant Arrests</td>\n",
       "      <td>WARRANT ARREST</td>\n",
       "      <td>E13</td>\n",
       "      <td>569</td>\n",
       "      <td>NaN</td>\n",
       "      <td>2016-05-31 19:35:00</td>\n",
       "      <td>2016</td>\n",
       "      <td>5</td>\n",
       "      <td>Tuesday</td>\n",
       "      <td>19</td>\n",
       "      <td>Part Three</td>\n",
       "      <td>NEW WASHINGTON ST</td>\n",
       "      <td>42.302333</td>\n",
       "      <td>-71.111565</td>\n",
       "      <td>(42.30233307, -71.11156487)</td>\n",
       "    </tr>\n",
       "    <tr>\n",
       "      <th>195621</th>\n",
       "      <td>142052550</td>\n",
       "      <td>3125</td>\n",
       "      <td>Warrant Arrests</td>\n",
       "      <td>WARRANT ARREST</td>\n",
       "      <td>D4</td>\n",
       "      <td>903</td>\n",
       "      <td>NaN</td>\n",
       "      <td>2015-06-22 00:12:00</td>\n",
       "      <td>2015</td>\n",
       "      <td>6</td>\n",
       "      <td>Monday</td>\n",
       "      <td>0</td>\n",
       "      <td>Part Three</td>\n",
       "      <td>WASHINGTON ST</td>\n",
       "      <td>42.333839</td>\n",
       "      <td>-71.080290</td>\n",
       "      <td>(42.33383935, -71.08029038)</td>\n",
       "    </tr>\n",
       "  </tbody>\n",
       "</table>\n",
       "<p>195622 rows × 17 columns</p>\n",
       "</div>"
      ],
      "text/plain": [
       "       INCIDENT_NUMBER  OFFENSE_CODE               OFFENSE_CODE_GROUP  \\\n",
       "0           I172047308          3006               Medical Assistance   \n",
       "1           I172047296           802                   Simple Assault   \n",
       "2           I172047293           802                   Simple Assault   \n",
       "3           I172047291           706                       Auto Theft   \n",
       "4           I172047289          3301                  Verbal Disputes   \n",
       "5           I172047288          3114             Investigate Property   \n",
       "6           I172047287          2629                       Harassment   \n",
       "7           I172047286          1830                   Drug Violation   \n",
       "8           I172047283          3831  Motor Vehicle Accident Response   \n",
       "9           I172047282          3115               Investigate Person   \n",
       "...                ...           ...                              ...   \n",
       "195612   I090317057-00           403               Aggravated Assault   \n",
       "195613   I090317057-00          3125                  Warrant Arrests   \n",
       "195614   I080542626-00          3125                  Warrant Arrests   \n",
       "195615   I080542626-00          1848                   Drug Violation   \n",
       "195616   I080542626-00          1849                   Drug Violation   \n",
       "195617   I050310906-00          3125                  Warrant Arrests   \n",
       "195618   I030217815-08           111                         Homicide   \n",
       "195619   I030217815-08          3125                  Warrant Arrests   \n",
       "195620   I010370257-00          3125                  Warrant Arrests   \n",
       "195621       142052550          3125                  Warrant Arrests   \n",
       "\n",
       "                                   OFFENSE_DESCRIPTION DISTRICT  \\\n",
       "0                        SICK/INJURED/MEDICAL - PERSON       D4   \n",
       "1                             ASSAULT SIMPLE - BATTERY       B2   \n",
       "2                             ASSAULT SIMPLE - BATTERY       B2   \n",
       "3                    AUTO THEFT - MOTORCYCLE / SCOOTER       A1   \n",
       "4                                       VERBAL DISPUTE      E18   \n",
       "5                                 INVESTIGATE PROPERTY      NaN   \n",
       "6                                           HARASSMENT       B2   \n",
       "7                         DRUGS - SICK ASSIST - HEROIN       D4   \n",
       "8                M/V - LEAVING SCENE - PROPERTY DAMAGE      C11   \n",
       "9                                   INVESTIGATE PERSON      NaN   \n",
       "...                                                ...      ...   \n",
       "195612                   ASSAULT & BATTERY D/W - OTHER       B3   \n",
       "195613                                  WARRANT ARREST       B3   \n",
       "195614                                  WARRANT ARREST       A1   \n",
       "195615  DRUGS - POSS CLASS B - INTENT TO MFR DIST DISP       A1   \n",
       "195616            DRUGS - POSS CLASS B - COCAINE, ETC.       A1   \n",
       "195617                                  WARRANT ARREST       D4   \n",
       "195618             MURDER, NON-NEGLIGIENT MANSLAUGHTER      E18   \n",
       "195619                                  WARRANT ARREST      E18   \n",
       "195620                                  WARRANT ARREST      E13   \n",
       "195621                                  WARRANT ARREST       D4   \n",
       "\n",
       "       REPORTING_AREA SHOOTING     OCCURRED_ON_DATE  YEAR  MONTH DAY_OF_WEEK  \\\n",
       "0                 130      NaN  2017-06-13 21:55:00  2017      6     Tuesday   \n",
       "1                 326      NaN  2017-06-13 20:53:00  2017      6     Tuesday   \n",
       "2                 331      NaN  2017-06-13 21:01:00  2017      6     Tuesday   \n",
       "3                  67      NaN  2017-06-06 09:00:00  2017      6     Tuesday   \n",
       "4                 516      NaN  2017-06-13 21:01:00  2017      6     Tuesday   \n",
       "5                          NaN  2017-06-13 21:33:00  2017      6     Tuesday   \n",
       "6                 324      NaN  2017-06-13 21:42:00  2017      6     Tuesday   \n",
       "7                          NaN  2017-06-13 21:12:00  2017      6     Tuesday   \n",
       "8                 235      NaN  2017-05-28 09:00:00  2017      5      Sunday   \n",
       "9                          NaN  2017-06-13 20:45:00  2017      6     Tuesday   \n",
       "...               ...      ...                  ...   ...    ...         ...   \n",
       "195612            458      NaN  2015-11-20 11:15:00  2015     11      Friday   \n",
       "195613            458      NaN  2015-11-20 11:15:00  2015     11      Friday   \n",
       "195614            111      NaN  2015-08-12 12:00:00  2015      8   Wednesday   \n",
       "195615            111      NaN  2015-08-12 12:00:00  2015      8   Wednesday   \n",
       "195616            111      NaN  2015-08-12 12:00:00  2015      8   Wednesday   \n",
       "195617            285      NaN  2016-06-05 17:25:00  2016      6      Sunday   \n",
       "195618            520      NaN  2015-07-09 13:38:00  2015      7    Thursday   \n",
       "195619            520      NaN  2015-07-09 13:38:00  2015      7    Thursday   \n",
       "195620            569      NaN  2016-05-31 19:35:00  2016      5     Tuesday   \n",
       "195621            903      NaN  2015-06-22 00:12:00  2015      6      Monday   \n",
       "\n",
       "        HOUR    UCR_PART             STREET        Lat       Long  \\\n",
       "0         21  Part Three     HUNTINGTON AVE  42.348577 -71.077720   \n",
       "1         20    Part Two          QUINCY ST  42.313322 -71.075915   \n",
       "2         21    Part Two          BAKER AVE  42.312387 -71.070862   \n",
       "3          9    Part One        ANDERSON ST  42.360306 -71.067789   \n",
       "4         21  Part Three        TRUMAN PKWY  42.251278 -71.120194   \n",
       "5         21  Part Three                NaN  42.308064 -71.065067   \n",
       "6         21    Part Two          DANUBE ST  42.317439 -71.075478   \n",
       "7         21    Part Two                NaN  42.344316 -71.074464   \n",
       "8          9  Part Three      BUTTONWOOD ST  42.320878 -71.055852   \n",
       "9         20  Part Three                NaN  42.335066 -71.078791   \n",
       "...      ...         ...                ...        ...        ...   \n",
       "195612    11    Part One      BLUE HILL AVE  42.301897 -71.085549   \n",
       "195613    11  Part Three      BLUE HILL AVE  42.301897 -71.085549   \n",
       "195614    12  Part Three        BOYLSTON ST  42.352312 -71.063705   \n",
       "195615    12    Part Two        BOYLSTON ST  42.352312 -71.063705   \n",
       "195616    12    Part Two        BOYLSTON ST  42.352312 -71.063705   \n",
       "195617    17  Part Three        COVENTRY ST  42.336951 -71.085748   \n",
       "195618    13    Part One           RIVER ST  42.255926 -71.123172   \n",
       "195619    13  Part Three           RIVER ST  42.255926 -71.123172   \n",
       "195620    19  Part Three  NEW WASHINGTON ST  42.302333 -71.111565   \n",
       "195621     0  Part Three      WASHINGTON ST  42.333839 -71.080290   \n",
       "\n",
       "                           Location  \n",
       "0       (42.34857652, -71.07772012)  \n",
       "1       (42.31332153, -71.07591511)  \n",
       "2       (42.31238668, -71.07086154)  \n",
       "3       (42.36030562, -71.06778870)  \n",
       "4       (42.25127804, -71.12019402)  \n",
       "5       (42.30806374, -71.06506719)  \n",
       "6       (42.31743922, -71.07547845)  \n",
       "7       (42.34431640, -71.07446411)  \n",
       "8       (42.32087815, -71.05585215)  \n",
       "9       (42.33506554, -71.07879088)  \n",
       "...                             ...  \n",
       "195612  (42.30189690, -71.08554944)  \n",
       "195613  (42.30189690, -71.08554944)  \n",
       "195614  (42.35231190, -71.06370510)  \n",
       "195615  (42.35231190, -71.06370510)  \n",
       "195616  (42.35231190, -71.06370510)  \n",
       "195617  (42.33695098, -71.08574813)  \n",
       "195618  (42.25592648, -71.12317207)  \n",
       "195619  (42.25592648, -71.12317207)  \n",
       "195620  (42.30233307, -71.11156487)  \n",
       "195621  (42.33383935, -71.08029038)  \n",
       "\n",
       "[195622 rows x 17 columns]"
      ]
     },
     "execution_count": 7,
     "metadata": {},
     "output_type": "execute_result"
    }
   ],
   "source": [
    "crime"
   ]
  },
  {
   "cell_type": "markdown",
   "metadata": {},
   "source": [
    "# Create a dataframe with only records that have correct geographic coordinates"
   ]
  },
  {
   "cell_type": "code",
   "execution_count": 8,
   "metadata": {
    "collapsed": true
   },
   "outputs": [],
   "source": [
    "bad_coords = ((crime['Lat'] < 42)|np.isnan(crime['Lat'])|(crime['Lat'] > 43)|(crime['Long'] < -72)|(crime['Long'] > -70)|np.isnan(crime['Long']))\n",
    "#print sum(wrong_or_nanlats)\n",
    "crime_goodcoords = crime[np.invert(bad_coords)]"
   ]
  },
  {
   "cell_type": "code",
   "execution_count": 9,
   "metadata": {},
   "outputs": [
    {
     "data": {
      "text/plain": [
       "(183800, 17)"
      ]
     },
     "execution_count": 9,
     "metadata": {},
     "output_type": "execute_result"
    }
   ],
   "source": [
    "crime_goodcoords.shape"
   ]
  },
  {
   "cell_type": "markdown",
   "metadata": {},
   "source": [
    "# Create a scatter plot of all crime across the city"
   ]
  },
  {
   "cell_type": "code",
   "execution_count": 10,
   "metadata": {},
   "outputs": [
    {
     "data": {
      "image/png": "[encoded data removed]",
      "text/plain": [
       "<matplotlib.figure.Figure at 0x1272f780>"
      ]
     },
     "metadata": {},
     "output_type": "display_data"
    }
   ],
   "source": [
    "#%matplotlib inline\n",
    "plt.scatter(x = crime_goodcoords.Long,y = crime_goodcoords.Lat, s= 0.1)\n",
    "plt.xlabel('Longitude')\n",
    "plt.ylabel('Latitiude')\n",
    "plt.title('Crime scatter plot')\n",
    "plt.axis('equal')\n",
    "plt.show()"
   ]
  },
  {
   "cell_type": "code",
   "execution_count": 79,
   "metadata": {
    "collapsed": true
   },
   "outputs": [],
   "source": [
    "plt.close()"
   ]
  },
  {
   "cell_type": "markdown",
   "metadata": {},
   "source": [
    "# Overlayed scatter plots of different crimes"
   ]
  },
  {
   "cell_type": "code",
   "execution_count": 11,
   "metadata": {},
   "outputs": [
    {
     "data": {
      "text/plain": [
       "\"colors = dict(mcolors.BASE_COLORS, **mcolors.CSS4_COLORS)\\nmycolors = map(str,colors.keys())\\n\\ngrouped_cg = crime_goodcoords.groupby('OFFENSE_CODE_GROUP') \\ni = 0\\nfor crime_type,group in grouped_cg:\\n    plt.scatter(x = crime_goodcoords.Long,y = crime_goodcoords.Lat, s= 0.5,c = mycolors[i])\\n    i += 1\\nplt.xlabel('Longitude')\\nplt.ylabel('Latitiude')\\nplt.title('Crime scatter plot')\\nplt.show()\""
      ]
     },
     "execution_count": 11,
     "metadata": {},
     "output_type": "execute_result"
    }
   ],
   "source": [
    "# This was not particularly useful because the plots are too dense and too overlapping.\n",
    "'''colors = dict(mcolors.BASE_COLORS, **mcolors.CSS4_COLORS)\n",
    "mycolors = map(str,colors.keys())\n",
    "\n",
    "grouped_cg = crime_goodcoords.groupby('OFFENSE_CODE_GROUP') \n",
    "i = 0\n",
    "for crime_type,group in grouped_cg:\n",
    "    plt.scatter(x = crime_goodcoords.Long,y = crime_goodcoords.Lat, s= 0.5,c = mycolors[i])\n",
    "    i += 1\n",
    "plt.xlabel('Longitude')\n",
    "plt.ylabel('Latitiude')\n",
    "plt.title('Crime scatter plot')\n",
    "plt.show()'''"
   ]
  },
  {
   "cell_type": "markdown",
   "metadata": {},
   "source": [
    "# 2D histogram of all crimes by coordinates"
   ]
  },
  {
   "cell_type": "code",
   "execution_count": 12,
   "metadata": {},
   "outputs": [
    {
     "data": {
      "text/plain": [
       "(-71.178673779999997,\n",
       " -70.963676149999998,\n",
       " 42.232413299999997,\n",
       " 42.395041579999997)"
      ]
     },
     "execution_count": 12,
     "metadata": {},
     "output_type": "execute_result"
    }
   ],
   "source": [
    "#%matplotlib inline\n",
    "hist_all, x_edges, y_edges = np.histogram2d(crime_goodcoords.Long,crime_goodcoords.Lat,bins = numbins)\n",
    "hist_all = hist_all.T\n",
    "X, Y = np.meshgrid(x_edges,y_edges)\n",
    "plt.pcolormesh(X, Y, hist_all,cmap = 'jet')\n",
    "plt.xlabel('Long')\n",
    "plt.ylabel('Lat')\n",
    "plt.axis('equal')"
   ]
  },
  {
   "cell_type": "markdown",
   "metadata": {},
   "source": [
    "# 2D histogram of crimes give type and day of the week by coordinates"
   ]
  },
  {
   "cell_type": "code",
   "execution_count": 13,
   "metadata": {
    "scrolled": true
   },
   "outputs": [
    {
     "data": {
      "text/plain": [
       "(-71.178673779999997,\n",
       " -70.963676149999998,\n",
       " 42.232413299999997,\n",
       " 42.395041579999997)"
      ]
     },
     "execution_count": 13,
     "metadata": {},
     "output_type": "execute_result"
    }
   ],
   "source": [
    "#%matplotlib inline\n",
    "offence_code_group = 'Larceny'\n",
    "day_of_week = 'Saturday'\n",
    "mask = ((crime_goodcoords.DAY_OF_WEEK == day_of_week) & (crime_goodcoords.OFFENSE_CODE_GROUP == offence_code_group))\n",
    "this_crime = crime_goodcoords[mask]\n",
    "hist_cd, x_edges, y_edges = np.histogram2d(this_crime.Long,this_crime.Lat,bins = [x_edges, y_edges])\n",
    "hist_cd = hist_cd.T\n",
    "X, Y = np.meshgrid(x_edges,y_edges)\n",
    "plt.pcolormesh(X, Y, hist_cd,cmap = 'jet')\n",
    "plt.xlabel('Long')\n",
    "plt.ylabel('Lat')\n",
    "plt.axis('equal')"
   ]
  },
  {
   "cell_type": "markdown",
   "metadata": {},
   "source": [
    "# Heatmap of crime by day of the week on google maps"
   ]
  },
  {
   "cell_type": "code",
   "execution_count": 14,
   "metadata": {},
   "outputs": [
    {
     "data": {
      "text/plain": [
       "\"offence_code_group = 'Aggravated Assault'\\nday_of_week = 'Sunday'\\nmask = ((crime_goodcoords.DAY_OF_WEEK == day_of_week) & (crime_goodcoords.OFFENSE_CODE_GROUP == offence_code_group))\\nthis_crime = crime_goodcoords[mask]\\n\\nMyLocs = []\\nfor ind in this_crime.index:\\n    this_loc = (this_crime.Lat[ind],this_crime.Long[ind])\\n    MyLocs.append(this_loc) \\n\\n\\nfig = gmaps.figure()\\nfig.add_layer(gmaps.heatmap_layer(MyLocs))\\nfig\\n\""
      ]
     },
     "execution_count": 14,
     "metadata": {},
     "output_type": "execute_result"
    }
   ],
   "source": [
    "'''offence_code_group = 'Aggravated Assault'\n",
    "day_of_week = 'Sunday'\n",
    "mask = ((crime_goodcoords.DAY_OF_WEEK == day_of_week) & (crime_goodcoords.OFFENSE_CODE_GROUP == offence_code_group))\n",
    "this_crime = crime_goodcoords[mask]\n",
    "\n",
    "MyLocs = []\n",
    "for ind in this_crime.index:\n",
    "    this_loc = (this_crime.Lat[ind],this_crime.Long[ind])\n",
    "    MyLocs.append(this_loc) \n",
    "\n",
    "\n",
    "fig = gmaps.figure()\n",
    "fig.add_layer(gmaps.heatmap_layer(MyLocs))\n",
    "fig\n",
    "'''"
   ]
  },
  {
   "cell_type": "markdown",
   "metadata": {},
   "source": [
    "## Write a function that takes offence type and day of the week as input and creates a heatmap on google maps:"
   ]
  },
  {
   "cell_type": "code",
   "execution_count": 88,
   "metadata": {
    "collapsed": true
   },
   "outputs": [],
   "source": [
    "def offence_heat_map(offence_code_group,day_of_week):\n",
    "    mask = ((crime_goodcoords.DAY_OF_WEEK == day_of_week) & (crime_goodcoords.OFFENSE_CODE_GROUP == offence_code_group))\n",
    "    this_crime = crime_goodcoords[mask]\n",
    "    \n",
    "    MyLocs = []\n",
    "    for ind in this_crime.index:\n",
    "        this_loc = (this_crime.Lat[ind],this_crime.Long[ind])\n",
    "        print this_loc\n",
    "        MyLocs.append(this_loc) \n",
    "    \n",
    "\n",
    "    fig = gmaps.figure()\n",
    "    fig.add_layer(gmaps.heatmap_layer(MyLocs))\n",
    "    fig\n",
    "    return fig"
   ]
  },
  {
   "cell_type": "code",
   "execution_count": 89,
   "metadata": {
    "collapsed": true
   },
   "outputs": [
    {
     "name": "stdout",
     "output_type": "stream",
     "text": [
      "(42.357273399999997, -71.061165799999998)\n",
      "(42.335062180000001, -71.093167809999997)\n",
      "(42.331297450000001, -71.04864886)\n",
      "(42.355447570000003, -71.057317269999999)\n",
      "(42.35009599, -71.077321100000006)\n",
      "(42.331674749999998, -71.096400919999994)\n",
      "(42.334459959999997, -71.04943145)\n",
      "(42.340915860000003, -71.087715309999993)\n",
      "(42.288738709999997, -71.071126269999993)\n",
      "(42.312366269999998, -71.099337399999996)\n",
      "(42.287148199999997, -71.064930390000001)\n",
      "(42.316151840000003, -71.097951350000002)\n",
      "(42.339618479999999, -71.082855800000004)\n",
      "(42.326137420000002, -71.075319379999996)\n",
      "(42.382392209999999, -71.078905860000006)\n",
      "(42.288738709999997, -71.071126269999993)\n",
      "(42.289152319999999, -71.073459999999997)\n",
      "(42.31130246, -71.078241379999994)\n",
      "(42.335985669999999, -71.099717409999997)\n",
      "(42.382590669999999, -71.03769466)\n",
      "(42.304804879999999, -71.06421426)\n",
      "(42.292576480000001, -71.071794060000002)\n",
      "(42.331953630000001, -71.081702780000001)\n",
      "(42.320160950000002, -71.077772899999999)\n",
      "(42.335459499999999, -71.074488909999999)\n",
      "(42.351627890000003, -71.068664100000007)\n",
      "(42.281751440000001, -71.127081829999995)\n",
      "(42.352353620000002, -71.058152829999997)\n",
      "(42.282951160000003, -71.09377542)\n",
      "(42.33450285, -71.103680199999999)\n",
      "(42.312243270000003, -71.075499010000001)\n",
      "(42.356501739999999, -71.061999599999993)\n",
      "(42.271302249999998, -71.074423620000005)\n",
      "(42.320041760000002, -71.061041180000004)\n",
      "(42.353495340000002, -71.061361980000001)\n",
      "(42.29057504, -71.071657259999995)\n",
      "(42.36943145, -71.039171789999997)\n",
      "(42.343419619999999, -71.083956000000001)\n",
      "(42.313627990000001, -71.095603069999996)\n",
      "(42.31985444, -71.079725179999997)\n",
      "(42.325122780000001, -71.071988309999995)\n",
      "(42.377502470000003, -71.03916237)\n",
      "(42.319285229999998, -71.050271670000001)\n",
      "(42.319285229999998, -71.050271670000001)\n",
      "(42.344750990000001, -71.146009719999995)\n",
      "(42.352418149999998, -71.06525499)\n",
      "(42.33738014, -71.083889009999993)\n",
      "(42.367012379999998, -71.035460200000003)\n",
      "(42.346574969999999, -71.074386500000003)\n",
      "(42.34862382, -71.082776370000005)\n",
      "(42.352729480000001, -71.062562909999997)\n",
      "(42.34055884, -71.070227709999998)\n",
      "(42.352418149999998, -71.06525499)\n",
      "(42.341456450000003, -71.104594700000007)\n",
      "(42.378875399999998, -71.058463279999998)\n",
      "(42.331780530000003, -71.049414510000005)\n",
      "(42.325970669999997, -71.101343029999995)\n",
      "(42.356375309999997, -71.062135130000001)\n",
      "(42.321406109999998, -71.095968290000002)\n",
      "(42.321406109999998, -71.095968290000002)\n",
      "(42.35146761, -71.062172189999998)\n",
      "(42.288738709999997, -71.071126269999993)\n",
      "(42.268173969999999, -71.093876769999994)\n",
      "(42.321406109999998, -71.095968290000002)\n",
      "(42.356930300000002, -71.060050079999996)\n",
      "(42.265945449999997, -71.100279549999996)\n",
      "(42.298179189999999, -71.086921590000003)\n",
      "(42.315211339999998, -71.087835920000003)\n",
      "(42.298558980000003, -71.073077420000004)\n",
      "(42.383451979999997, -70.997852249999994)\n",
      "(42.310528660000003, -71.086718349999998)\n",
      "(42.28783644, -71.081010390000003)\n",
      "(42.357273399999997, -71.061165799999998)\n",
      "(42.299637089999997, -71.058511760000002)\n",
      "(42.309894540000002, -71.082318540000003)\n",
      "(42.328876000000001, -71.085138999999998)\n",
      "(42.336724340000004, -71.081227240000004)\n",
      "(42.384098109999996, -71.073989639999994)\n",
      "(42.258439090000003, -71.123488339999994)\n",
      "(42.324833009999999, -71.101647569999997)\n",
      "(42.35066174, -71.066022320000002)\n",
      "(42.308017339999999, -71.088707119999995)\n",
      "(42.302388809999997, -71.085393879999998)\n",
      "(42.337230470000002, -71.084142310000004)\n",
      "(42.370372379999999, -71.031448019999999)\n",
      "(42.310899859999999, -71.080076610000006)\n",
      "(42.335817329999998, -71.074043829999994)\n",
      "(42.302736070000002, -71.082485439999999)\n",
      "(42.279682989999998, -71.092860479999999)\n",
      "(42.336112, -71.046654340000003)\n",
      "(42.33182961, -71.07347274)\n",
      "(42.302581089999997, -71.084766290000005)\n",
      "(42.326299390000003, -71.091392839999997)\n",
      "(42.288881920000001, -71.067693550000001)\n",
      "(42.28712049, -71.084211389999993)\n",
      "(42.309277899999998, -71.078687909999999)\n",
      "(42.311954749999998, -71.078719120000002)\n",
      "(42.264964749999997, -71.12123167)\n",
      "(42.283390689999997, -71.073886279999996)\n",
      "(42.288262109999998, -71.081408350000004)\n",
      "(42.360679840000003, -71.054823249999998)\n",
      "(42.329259049999997, -71.084824019999999)\n",
      "(42.343552209999999, -71.153406230000002)\n",
      "(42.343552209999999, -71.153406230000002)\n",
      "(42.299844659999998, -71.119609429999997)\n",
      "(42.315919049999998, -71.096912950000004)\n",
      "(42.332390500000002, -71.099683290000002)\n",
      "(42.318950940000001, -71.069693619999995)\n",
      "(42.298618070000003, -71.060641860000004)\n",
      "(42.328725890000001, -71.083822170000005)\n",
      "(42.321182899999997, -71.106827800000005)\n",
      "(42.3160569, -71.078200170000002)\n",
      "(42.349997330000001, -71.081034399999993)\n",
      "(42.323266410000002, -71.098416069999999)\n",
      "(42.3649755, -71.062044)\n",
      "(42.327574230000003, -71.107388229999998)\n",
      "(42.364343040000001, -71.059875860000005)\n",
      "(42.272829719999997, -71.095604019999996)\n",
      "(42.346104240000003, -71.146269529999998)\n",
      "(42.324764940000001, -71.053403590000002)\n",
      "(42.3338921, -71.038136050000006)\n",
      "(42.332634179999999, -71.053702990000005)\n",
      "(42.325128999999997, -71.104361600000004)\n",
      "(42.31795048, -71.096170990000005)\n",
      "(42.280826709999999, -71.097547180000007)\n",
      "(42.274580780000001, -71.117665020000004)\n",
      "(42.356375309999997, -71.062135130000001)\n",
      "(42.2822757, -71.047290840000002)\n",
      "(42.301310860000001, -71.084438410000004)\n",
      "(42.352536409999999, -71.060905320000003)\n",
      "(42.308701319999997, -71.079327550000002)\n",
      "(42.301686220000001, -71.063289010000005)\n",
      "(42.352311899999997, -71.063705100000007)\n",
      "(42.303565390000003, -71.07868148)\n",
      "(42.29681643, -71.048537850000002)\n",
      "(42.26582389, -71.152054309999997)\n",
      "(42.350946280000002, -71.066856040000005)\n",
      "(42.300555180000003, -71.113124389999996)\n",
      "(42.324833009999999, -71.101647569999997)\n",
      "(42.357243240000003, -71.058496719999994)\n",
      "(42.350809409999997, -71.081436150000002)\n",
      "(42.339010969999997, -71.047895150000002)\n",
      "(42.318030270000001, -71.077874719999997)\n",
      "(42.318030270000001, -71.077874719999997)\n",
      "(42.328092099999999, -71.05231757)\n",
      "(42.270719560000003, -71.101898509999998)\n",
      "(42.342850140000003, -71.065162349999994)\n",
      "(42.331286460000001, -71.102540230000002)\n",
      "(42.33367922, -71.091877550000007)\n",
      "(42.300277960000003, -71.078839619999997)\n",
      "(42.33593698, -71.080087910000003)\n",
      "(42.326242039999997, -71.103175750000005)\n",
      "(42.336049000000003, -71.076543999999998)\n",
      "(42.348547750000002, -71.076539190000005)\n",
      "(42.374843310000003, -71.033931820000006)\n",
      "(42.345693160000003, -71.068572570000001)\n",
      "(42.357967119999998, -71.053991150000002)\n",
      "(42.311309749999999, -71.086100200000004)\n",
      "(42.311309749999999, -71.086100200000004)\n",
      "(42.349428639999999, -71.065366409999996)\n",
      "(42.307487850000001, -71.065661019999993)\n",
      "(42.316720889999999, -71.076777419999999)\n",
      "(42.359613160000002, -71.051958089999999)\n",
      "(42.292935219999997, -71.075758260000001)\n",
      "(42.292435849999997, -71.079506170000002)\n",
      "(42.312834119999998, -71.089747119999998)\n",
      "(42.330140120000003, -71.056957870000005)\n",
      "(42.303053640000002, -71.058637770000004)\n",
      "(42.312386680000003, -71.070861539999996)\n",
      "(42.348775750000001, -71.09606805)\n",
      "(42.266449110000003, -71.106020310000005)\n",
      "(42.331512889999999, -71.104949009999999)\n",
      "(42.300980090000003, -71.068699280000004)\n",
      "(42.343574840000002, -71.074100560000005)\n",
      "(42.333802380000002, -71.088808670000006)\n",
      "(42.322270570000001, -71.087457409999999)\n",
      "(42.319041200000001, -71.077753560000005)\n",
      "(42.345210999999999, -71.088149869999995)\n",
      "(42.288438079999999, -71.132005879999994)\n",
      "(42.314607330000001, -71.088324499999999)\n",
      "(42.35545896, -71.060523979999999)\n",
      "(42.327204029999997, -71.053189489999994)\n",
      "(42.364924000000002, -71.053317719999995)\n",
      "(42.318526980000001, -71.096649830000004)\n",
      "(42.350112189999997, -71.077315299999995)\n",
      "(42.355548059999997, -71.060731399999995)\n",
      "(42.326968020000002, -71.080519409999994)\n",
      "(42.333489210000003, -71.080641679999999)\n",
      "(42.35673302, -71.057559380000001)\n",
      "(42.3639917, -71.055617639999994)\n",
      "(42.351121849999998, -71.064880979999998)\n",
      "(42.343558680000001, -71.087341460000005)\n",
      "(42.377463050000003, -71.066979689999997)\n",
      "(42.375052510000003, -71.038838909999996)\n",
      "(42.290957759999998, -71.071685489999993)\n",
      "(42.248957509999997, -71.133122349999994)\n",
      "(42.349972559999998, -71.063488169999999)\n",
      "(42.354363620000001, -71.057591509999995)\n",
      "(42.250600710000001, -71.132541799999998)\n",
      "(42.31878339, -71.090742280000001)\n",
      "(42.31878339, -71.090742280000001)\n",
      "(42.3237509, -71.05683105)\n",
      "(42.352311899999997, -71.063705100000007)\n",
      "(42.300977930000002, -71.167443259999999)\n",
      "(42.34717363, -71.096443899999997)\n",
      "(42.351317629999997, -71.058383669999998)\n",
      "(42.341331949999997, -71.076553399999995)\n",
      "(42.355430890000001, -71.057676610000001)\n",
      "(42.35393998, -71.078029920000006)\n",
      "(42.361243270000003, -71.064973269999996)\n",
      "(42.30085931, -71.081288079999993)\n",
      "(42.322188099999998, -71.092633140000004)\n",
      "(42.24911633, -71.140081100000003)\n",
      "(42.33362614, -71.073364170000005)\n",
      "(42.308333709999999, -71.075991279999997)\n",
      "(42.361272489999998, -71.064082690000006)\n",
      "(42.358048340000003, -71.054038660000003)\n",
      "(42.351384869999997, -71.138322759999994)\n",
      "(42.298819680000001, -71.065700840000005)\n",
      "(42.283745690000003, -71.091535829999998)\n",
      "(42.321333959999997, -71.075811860000002)\n",
      "(42.361917990000002, -71.051451909999997)\n",
      "(42.307333929999999, -71.076370400000002)\n",
      "(42.244950289999998, -71.133448439999995)\n",
      "(42.347462409999999, -71.09826597)\n",
      "(42.342898499999997, -71.078800000000001)\n",
      "(42.291485170000001, -71.122756179999996)\n",
      "(42.377978659999997, -71.059677570000005)\n",
      "(42.290174319999998, -71.088085250000006)\n",
      "(42.332858999999999, -71.092321999999996)\n",
      "(42.354501390000003, -71.059167740000007)\n",
      "(42.330636259999999, -71.056962069999997)\n",
      "(42.33166164, -71.081478270000005)\n",
      "(42.357686450000003, -71.060751339999996)\n",
      "(42.268576090000003, -71.095748259999993)\n",
      "(42.29648529, -71.059683059999998)\n",
      "(42.336112, -71.046654340000003)\n",
      "(42.337679530000003, -71.075291190000002)\n",
      "(42.332659059999997, -71.051416320000001)\n",
      "(42.337426180000001, -71.083815770000001)\n",
      "(42.322914060000002, -71.103284020000004)\n",
      "(42.331396589999997, -71.082324959999994)\n",
      "(42.316886060000002, -71.090011899999993)\n",
      "(42.341867649999998, -71.072722150000004)\n",
      "(42.337557150000002, -71.078360180000004)\n",
      "(42.276156909999997, -71.095503030000003)\n",
      "(42.31986844, -71.056769849999995)\n",
      "(42.280796580000001, -71.090397240000001)\n",
      "(42.314610360000003, -71.099477089999993)\n",
      "(42.279340550000001, -71.091305050000003)\n",
      "(42.319755280000003, -71.093333220000005)\n",
      "(42.288410849999998, -71.047100909999997)\n",
      "(42.301310860000001, -71.084438410000004)\n",
      "(42.276626909999997, -71.081239729999993)\n",
      "(42.276626909999997, -71.081239729999993)\n",
      "(42.316766909999998, -71.077140540000002)\n",
      "(42.276475730000001, -71.092569060000002)\n",
      "(42.344280820000002, -71.089821880000002)\n",
      "(42.26216909, -71.121855580000002)\n",
      "(42.3160569, -71.078200170000002)\n",
      "(42.292760440000002, -71.074866029999995)\n",
      "(42.319732620000003, -71.112759839999995)\n",
      "(42.331297450000001, -71.04864886)\n",
      "(42.378292049999999, -71.053870239999995)\n",
      "(42.382081020000001, -71.021701030000003)\n",
      "(42.351259020000001, -71.060093710000004)\n",
      "(42.35902548, -71.055679960000006)\n",
      "(42.318148360000002, -71.067083460000006)\n",
      "(42.318148360000002, -71.067083460000006)\n",
      "(42.31137073, -71.062828769999996)\n",
      "(42.379670660000002, -71.058945910000006)\n",
      "(42.309700159999998, -71.08582414)\n",
      "(42.373461349999999, -71.033569229999998)\n",
      "(42.34314406, -71.095893050000001)\n",
      "(42.320469789999997, -71.071619499999997)\n",
      "(42.2953458, -71.087901880000004)\n",
      "(42.348287589999998, -71.078917730000001)\n",
      "(42.311619229999998, -71.070946649999996)\n",
      "(42.334636619999998, -71.075975929999998)\n",
      "(42.299410620000003, -71.115174710000005)\n",
      "(42.375000720000003, -71.034179190000003)\n",
      "(42.328219519999998, -71.080827679999999)\n",
      "(42.326966470000002, -71.061986070000003)\n",
      "(42.307763420000001, -71.066830620000005)\n",
      "(42.32832226, -71.083214949999999)\n",
      "(42.311934030000003, -71.1142909)\n",
      "(42.353581290000001, -71.062366650000001)\n",
      "(42.246473510000001, -71.120984980000003)\n",
      "(42.316966499999999, -71.08254058)\n",
      "(42.356988569999999, -71.06084937)\n",
      "(42.344107180000002, -71.101802599999999)\n",
      "(42.382291549999998, -71.040364240000002)\n",
      "(42.302187799999999, -71.073650040000004)\n",
      "(42.376847130000002, -71.03367179)\n",
      "(42.31552095, -71.102499469999998)\n",
      "(42.30195045, -71.077980879999998)\n",
      "(42.356093199999997, -71.057341510000001)\n",
      "(42.369815610000003, -71.041876779999996)\n",
      "(42.289948799999998, -71.069639359999996)\n",
      "(42.291828350000003, -71.117800849999995)\n",
      "(42.276509609999998, -71.13100618)\n",
      "(42.327540800000001, -71.099500129999996)\n",
      "(42.285811209999999, -71.071154829999998)\n",
      "(42.378084520000002, -71.057841150000002)\n",
      "(42.282587790000001, -71.055953950000003)\n",
      "(42.334018290000003, -71.076381240000003)\n",
      "(42.328298580000002, -71.056918039999999)\n",
      "(42.351570760000001, -71.071865990000006)\n",
      "(42.286271229999997, -71.13644214)\n",
      "(42.309384369999997, -71.08262277)\n",
      "(42.318414679999997, -71.065073139999996)\n",
      "(42.336513619999998, -71.034623730000007)\n",
      "(42.321041690000001, -71.07215291)\n",
      "(42.289065020000002, -71.067038170000004)\n",
      "(42.364392559999999, -71.060931850000003)\n",
      "(42.358363969999999, -71.053033830000004)\n",
      "(42.353678610000003, -71.138198560000006)\n",
      "(42.311350740000002, -71.08717206)\n",
      "(42.288738709999997, -71.071126269999993)\n",
      "(42.361223240000001, -71.065932349999997)\n",
      "(42.293605849999999, -71.071886500000005)\n",
      "(42.301750490000003, -71.059734000000006)\n",
      "(42.315652049999997, -71.09843506)\n",
      "(42.32525339, -71.096708719999995)\n",
      "(42.294699700000002, -71.050152179999998)\n",
      "(42.377941909999997, -71.055073199999995)\n",
      "(42.348212050000001, -71.160913350000001)\n",
      "(42.35138139, -71.067043839999997)\n",
      "(42.372158800000001, -71.038523780000006)\n",
      "(42.302883970000003, -71.069187979999995)\n",
      "(42.33402461, -71.090390490000004)\n",
      "(42.335433940000001, -71.080767379999998)\n",
      "(42.335559539999998, -71.074363640000001)\n",
      "(42.307831200000003, -71.06529544)\n",
      "(42.379670660000002, -71.058945910000006)\n",
      "(42.335433940000001, -71.080767379999998)\n",
      "(42.324701900000001, -71.075426829999998)\n",
      "(42.35654108, -71.059829530000002)\n",
      "(42.337947450000001, -71.053105130000006)\n",
      "(42.351251310000002, -71.068555380000006)\n",
      "(42.35545896, -71.060523979999999)\n",
      "(42.366543309999997, -71.032505270000001)\n",
      "(42.287017380000002, -71.077064530000001)\n"
     ]
    },
    {
     "name": "stdout",
     "output_type": "stream",
     "text": [
      "(42.349885749999999, -71.145229709999995)\n",
      "(42.34844142, -71.049965229999998)\n",
      "(42.31012905, -71.074848209999999)\n",
      "(42.284245140000003, -71.084527390000005)\n",
      "(42.344895940000001, -71.096591860000004)\n",
      "(42.350946280000002, -71.066856040000005)\n",
      "(42.355953909999997, -71.138524680000003)\n",
      "(42.313279219999998, -71.052920929999999)\n",
      "(42.385937149999997, -71.01328384)\n",
      "(42.356248880000003, -71.062270650000002)\n",
      "(42.312096189999998, -71.060844259999996)\n",
      "(42.308596590000001, -71.062577489999995)\n",
      "(42.280612300000001, -71.083501459999994)\n",
      "(42.300405900000001, -71.082824000000002)\n",
      "(42.341603569999997, -71.097717500000002)\n",
      "(42.372158800000001, -71.038523780000006)\n",
      "(42.309609299999998, -71.110809939999996)\n",
      "(42.345116500000003, -71.076186500000006)\n",
      "(42.291741270000003, -71.077179290000004)\n",
      "(42.291741270000003, -71.077179290000004)\n",
      "(42.24961588, -71.13479074)\n",
      "(42.351657330000002, -71.064256940000007)\n",
      "(42.35545896, -71.060523979999999)\n",
      "(42.344395679999998, -71.08632016)\n",
      "(42.350959090000003, -71.074127799999999)\n",
      "(42.3532601, -71.062832159999999)\n",
      "(42.336048460000001, -71.088207839999995)\n",
      "(42.356930300000002, -71.060050079999996)\n",
      "(42.333209310000001, -71.109569359999995)\n",
      "(42.349972559999998, -71.063488169999999)\n",
      "(42.325475359999999, -71.102534820000002)\n",
      "(42.309864339999997, -71.062596350000007)\n",
      "(42.287166740000004, -71.076334790000004)\n",
      "(42.293303760000001, -71.088589900000002)\n",
      "(42.301292439999997, -71.064027109999998)\n",
      "(42.32855807, -71.079275999999993)\n",
      "(42.302094429999997, -71.065751829999996)\n",
      "(42.377463050000003, -71.066979689999997)\n",
      "(42.377463050000003, -71.066979689999997)\n",
      "(42.345680229999999, -71.150742089999994)\n",
      "(42.377826710000001, -71.0695008)\n",
      "(42.284062200000001, -71.081708390000003)\n",
      "(42.281122250000003, -71.1338382)\n",
      "(42.287469250000001, -71.071215839999994)\n",
      "(42.342636370000001, -71.090264199999993)\n",
      "(42.338255719999999, -71.079209180000007)\n",
      "(42.303053640000002, -71.058637770000004)\n",
      "(42.336065699999999, -71.150627200000002)\n",
      "(42.296662019999999, -71.061218359999998)\n",
      "(42.314316730000002, -71.056244219999996)\n",
      "(42.333534, -71.073491000000004)\n",
      "(42.326174209999998, -71.081183359999997)\n",
      "(42.299196940000002, -71.060469740000002)\n",
      "(42.302542389999999, -71.059566899999993)\n",
      "(42.285996019999999, -71.064236730000005)\n",
      "(42.295093110000003, -71.0562477)\n",
      "(42.322916980000002, -71.102890059999993)\n",
      "(42.30226502, -71.084946740000007)\n",
      "(42.351466010000003, -71.083060979999999)\n",
      "(42.285260239999999, -71.064440630000007)\n",
      "(42.356784419999997, -71.066708449999993)\n",
      "(42.288148249999999, -71.134277030000007)\n",
      "(42.32290252, -71.102204020000002)\n",
      "(42.353297849999997, -71.134050279999997)\n",
      "(42.368305020000001, -71.056188480000003)\n",
      "(42.277887370000002, -71.136344829999999)\n",
      "(42.304922390000002, -71.102980729999999)\n",
      "(42.306265209999999, -71.068645559999993)\n",
      "(42.278636489999997, -71.095411350000006)\n",
      "(42.311865529999999, -71.076686030000005)\n",
      "(42.330442470000001, -71.046785310000004)\n",
      "(42.373321050000001, -71.0390455)\n",
      "(42.302039020000002, -71.060090720000005)\n",
      "(42.286116649999997, -71.141143990000003)\n",
      "(42.315969000000003, -71.066253000000003)\n",
      "(42.348819560000003, -71.09239402)\n",
      "(42.35934409, -71.153897799999996)\n",
      "(42.307252769999998, -71.102651190000003)\n",
      "(42.305378480000002, -71.061513559999995)\n",
      "(42.317791300000003, -71.093345260000007)\n",
      "(42.286304000000001, -71.070715849999999)\n",
      "(42.289069079999997, -71.121167529999994)\n",
      "(42.269320980000003, -71.172049380000004)\n",
      "(42.357387170000003, -71.072165380000001)\n",
      "(42.33342167, -71.086263180000003)\n",
      "(42.341166319999999, -71.075376939999998)\n",
      "(42.324429559999999, -71.089387790000004)\n",
      "(42.313193820000002, -71.065008329999998)\n",
      "(42.279916360000001, -71.096743770000003)\n",
      "(42.352111379999997, -71.065975760000001)\n",
      "(42.313232579999998, -71.094857689999998)\n",
      "(42.328725890000001, -71.083822170000005)\n",
      "(42.342680729999998, -71.099377140000001)\n",
      "(42.280893659999997, -71.080374680000006)\n",
      "(42.311065450000001, -71.06693233)\n",
      "(42.338021660000003, -71.082730549999994)\n",
      "(42.370248799999999, -71.038380020000005)\n",
      "(42.374686150000002, -71.038931109999993)\n",
      "(42.32849143, -71.081212530000002)\n",
      "(42.351661419999999, -71.057246090000007)\n",
      "(42.284691639999998, -71.096215479999998)\n",
      "(42.356501739999999, -71.061999599999993)\n"
     ]
    }
   ],
   "source": [
    "fig1 = offence_heat_map('Robbery','Sunday')"
   ]
  },
  {
   "cell_type": "code",
   "execution_count": 17,
   "metadata": {
    "scrolled": true
   },
   "outputs": [
    {
     "data": {
      "application/vnd.jupyter.widget-view+json": {
       "model_id": "0a2d7036c9ed48ff9492be7cc087bdcf"
      }
     },
     "metadata": {},
     "output_type": "display_data"
    }
   ],
   "source": [
    "fig1"
   ]
  },
  {
   "cell_type": "markdown",
   "metadata": {},
   "source": [
    "# Group crimes by offence code group for analysis"
   ]
  },
  {
   "cell_type": "code",
   "execution_count": 18,
   "metadata": {
    "collapsed": true
   },
   "outputs": [],
   "source": [
    "grouped_crimes = crime.groupby('OFFENSE_CODE_GROUP')"
   ]
  },
  {
   "cell_type": "code",
   "execution_count": 19,
   "metadata": {
    "collapsed": true
   },
   "outputs": [],
   "source": [
    "# t = (pd.DataFrame(group.DAY_OF_WEEK.value_counts()) for crime_type,group in grouped_crimes)"
   ]
  },
  {
   "cell_type": "markdown",
   "metadata": {},
   "source": [
    "## For each offence code group get the counts by the number of days:"
   ]
  },
  {
   "cell_type": "code",
   "execution_count": 20,
   "metadata": {
    "collapsed": true,
    "scrolled": true
   },
   "outputs": [],
   "source": [
    "daycount_by_crime_type = pd.DataFrame()\n",
    "for crime_type,group in grouped_crimes:\n",
    "    day_count = group.DAY_OF_WEEK.value_counts()\n",
    "    these_weekdays = map(str,day_count.index.values)\n",
    "    day_count_array = day_count.values\n",
    "    this_df = pd.DataFrame(data = day_count_array.reshape(1,len(day_count_array)),index = [crime_type],columns = these_weekdays)\n",
    "    daycount_by_crime_type = pd.concat([daycount_by_crime_type,this_df],axis = 0)\n",
    "    #print type(group)\n",
    "    #print crime_type\n",
    "    #days.index.values = crime_type\n",
    "    #daycount_by_crime_type = daycount_by_crime_type.append(days) \n",
    "    "
   ]
  },
  {
   "cell_type": "markdown",
   "metadata": {},
   "source": [
    "Re-order the columns to weekdays:"
   ]
  },
  {
   "cell_type": "code",
   "execution_count": 21,
   "metadata": {
    "collapsed": true
   },
   "outputs": [],
   "source": [
    "weekdays = ['Sunday','Monday','Tuesday','Wednesday','Thursday','Friday','Saturday']"
   ]
  },
  {
   "cell_type": "code",
   "execution_count": 22,
   "metadata": {
    "collapsed": true,
    "scrolled": true
   },
   "outputs": [],
   "source": [
    "daycount_by_crime_type = daycount_by_crime_type[weekdays]"
   ]
  },
  {
   "cell_type": "markdown",
   "metadata": {},
   "source": [
    "Replace NaN values with 0's:"
   ]
  },
  {
   "cell_type": "code",
   "execution_count": 23,
   "metadata": {
    "collapsed": true
   },
   "outputs": [],
   "source": [
    "daycount_by_crime_type.replace(np.NaN,0,inplace = True)"
   ]
  },
  {
   "cell_type": "markdown",
   "metadata": {},
   "source": [
    "## Bar plot of crime incidence by day of the week for a given offence group:"
   ]
  },
  {
   "cell_type": "code",
   "execution_count": 44,
   "metadata": {},
   "outputs": [],
   "source": [
    "crime1 = 'Aggravated Assault'\n",
    "crime2 = 'Auto Theft'\n",
    "x_axis1 = map(float,range(7))\n",
    "x_axis2 = map(lambda x: x +0.25,x_axis1)\n",
    "incidence_by_day1 = daycount_by_crime_type.ix[crime1,:]\n",
    "incidence_by_day2 = daycount_by_crime_type.ix[crime2,:]\n",
    "#fig, ax = plt.subplots()\n",
    "plt.bar(x_axis1,incidence_by_day1.values,width = 0.5)\n",
    "plt.bar(x_axis2,incidence_by_day2.values,color = 'red',width = 0.5)\n",
    "plt.xticks(x_axis1, weekdays,rotation = 'vertical')\n",
    "plt.ylim((400,800))\n",
    "plt.xlim((-0.5,6.5))\n",
    "plt.show()"
   ]
  },
  {
   "cell_type": "code",
   "execution_count": 25,
   "metadata": {},
   "outputs": [
    {
     "data": {
      "text/plain": [
       "array([ 750.,  613.,  640.,  612.,  685.,  671.,  776.])"
      ]
     },
     "execution_count": 25,
     "metadata": {},
     "output_type": "execute_result"
    }
   ],
   "source": [
    "incidence_by_day1.values"
   ]
  },
  {
   "cell_type": "code",
   "execution_count": 26,
   "metadata": {},
   "outputs": [
    {
     "data": {
      "text/plain": [
       "[0.0, 1.0, 2.0, 3.0, 4.0, 5.0, 6.0]"
      ]
     },
     "execution_count": 26,
     "metadata": {},
     "output_type": "execute_result"
    }
   ],
   "source": [
    "x_axis1"
   ]
  },
  {
   "cell_type": "code",
   "execution_count": 27,
   "metadata": {},
   "outputs": [
    {
     "data": {
      "text/html": [
       "<div>\n",
       "<table border=\"1\" class=\"dataframe\">\n",
       "  <thead>\n",
       "    <tr style=\"text-align: right;\">\n",
       "      <th></th>\n",
       "      <th>Sunday</th>\n",
       "      <th>Monday</th>\n",
       "      <th>Tuesday</th>\n",
       "      <th>Wednesday</th>\n",
       "      <th>Thursday</th>\n",
       "      <th>Friday</th>\n",
       "      <th>Saturday</th>\n",
       "    </tr>\n",
       "  </thead>\n",
       "  <tbody>\n",
       "    <tr>\n",
       "      <th>Aggravated Assault</th>\n",
       "      <td>750.0</td>\n",
       "      <td>613.0</td>\n",
       "      <td>640.0</td>\n",
       "      <td>612.0</td>\n",
       "      <td>685.0</td>\n",
       "      <td>671.0</td>\n",
       "      <td>776.0</td>\n",
       "    </tr>\n",
       "    <tr>\n",
       "      <th>Aircraft</th>\n",
       "      <td>3.0</td>\n",
       "      <td>0.0</td>\n",
       "      <td>4.0</td>\n",
       "      <td>3.0</td>\n",
       "      <td>2.0</td>\n",
       "      <td>2.0</td>\n",
       "      <td>3.0</td>\n",
       "    </tr>\n",
       "    <tr>\n",
       "      <th>Arson</th>\n",
       "      <td>9.0</td>\n",
       "      <td>7.0</td>\n",
       "      <td>6.0</td>\n",
       "      <td>7.0</td>\n",
       "      <td>14.0</td>\n",
       "      <td>3.0</td>\n",
       "      <td>12.0</td>\n",
       "    </tr>\n",
       "    <tr>\n",
       "      <th>Assembly or Gathering Violations</th>\n",
       "      <td>148.0</td>\n",
       "      <td>69.0</td>\n",
       "      <td>42.0</td>\n",
       "      <td>48.0</td>\n",
       "      <td>42.0</td>\n",
       "      <td>105.0</td>\n",
       "      <td>224.0</td>\n",
       "    </tr>\n",
       "    <tr>\n",
       "      <th>Auto Theft</th>\n",
       "      <td>433.0</td>\n",
       "      <td>441.0</td>\n",
       "      <td>419.0</td>\n",
       "      <td>420.0</td>\n",
       "      <td>426.0</td>\n",
       "      <td>446.0</td>\n",
       "      <td>411.0</td>\n",
       "    </tr>\n",
       "    <tr>\n",
       "      <th>Auto Theft Recovery</th>\n",
       "      <td>74.0</td>\n",
       "      <td>84.0</td>\n",
       "      <td>86.0</td>\n",
       "      <td>101.0</td>\n",
       "      <td>99.0</td>\n",
       "      <td>91.0</td>\n",
       "      <td>77.0</td>\n",
       "    </tr>\n",
       "    <tr>\n",
       "      <th>Ballistics</th>\n",
       "      <td>98.0</td>\n",
       "      <td>84.0</td>\n",
       "      <td>86.0</td>\n",
       "      <td>70.0</td>\n",
       "      <td>78.0</td>\n",
       "      <td>81.0</td>\n",
       "      <td>114.0</td>\n",
       "    </tr>\n",
       "    <tr>\n",
       "      <th>Bomb Hoax</th>\n",
       "      <td>2.0</td>\n",
       "      <td>12.0</td>\n",
       "      <td>10.0</td>\n",
       "      <td>8.0</td>\n",
       "      <td>12.0</td>\n",
       "      <td>14.0</td>\n",
       "      <td>5.0</td>\n",
       "    </tr>\n",
       "    <tr>\n",
       "      <th>Burglary - No Property Taken</th>\n",
       "      <td>0.0</td>\n",
       "      <td>1.0</td>\n",
       "      <td>1.0</td>\n",
       "      <td>0.0</td>\n",
       "      <td>0.0</td>\n",
       "      <td>0.0</td>\n",
       "      <td>0.0</td>\n",
       "    </tr>\n",
       "    <tr>\n",
       "      <th>Commercial Burglary</th>\n",
       "      <td>124.0</td>\n",
       "      <td>132.0</td>\n",
       "      <td>136.0</td>\n",
       "      <td>123.0</td>\n",
       "      <td>100.0</td>\n",
       "      <td>124.0</td>\n",
       "      <td>131.0</td>\n",
       "    </tr>\n",
       "    <tr>\n",
       "      <th>...</th>\n",
       "      <td>...</td>\n",
       "      <td>...</td>\n",
       "      <td>...</td>\n",
       "      <td>...</td>\n",
       "      <td>...</td>\n",
       "      <td>...</td>\n",
       "      <td>...</td>\n",
       "    </tr>\n",
       "    <tr>\n",
       "      <th>Robbery</th>\n",
       "      <td>469.0</td>\n",
       "      <td>419.0</td>\n",
       "      <td>441.0</td>\n",
       "      <td>398.0</td>\n",
       "      <td>425.0</td>\n",
       "      <td>480.0</td>\n",
       "      <td>417.0</td>\n",
       "    </tr>\n",
       "    <tr>\n",
       "      <th>Search Warrants</th>\n",
       "      <td>15.0</td>\n",
       "      <td>94.0</td>\n",
       "      <td>118.0</td>\n",
       "      <td>110.0</td>\n",
       "      <td>120.0</td>\n",
       "      <td>104.0</td>\n",
       "      <td>47.0</td>\n",
       "    </tr>\n",
       "    <tr>\n",
       "      <th>Service</th>\n",
       "      <td>24.0</td>\n",
       "      <td>19.0</td>\n",
       "      <td>28.0</td>\n",
       "      <td>30.0</td>\n",
       "      <td>20.0</td>\n",
       "      <td>17.0</td>\n",
       "      <td>28.0</td>\n",
       "    </tr>\n",
       "    <tr>\n",
       "      <th>Sex Offender Registration</th>\n",
       "      <td>11.0</td>\n",
       "      <td>91.0</td>\n",
       "      <td>105.0</td>\n",
       "      <td>87.0</td>\n",
       "      <td>72.0</td>\n",
       "      <td>61.0</td>\n",
       "      <td>18.0</td>\n",
       "    </tr>\n",
       "    <tr>\n",
       "      <th>Simple Assault</th>\n",
       "      <td>1470.0</td>\n",
       "      <td>1214.0</td>\n",
       "      <td>1265.0</td>\n",
       "      <td>1282.0</td>\n",
       "      <td>1297.0</td>\n",
       "      <td>1444.0</td>\n",
       "      <td>1418.0</td>\n",
       "    </tr>\n",
       "    <tr>\n",
       "      <th>Towed</th>\n",
       "      <td>878.0</td>\n",
       "      <td>1001.0</td>\n",
       "      <td>917.0</td>\n",
       "      <td>819.0</td>\n",
       "      <td>960.0</td>\n",
       "      <td>913.0</td>\n",
       "      <td>1050.0</td>\n",
       "    </tr>\n",
       "    <tr>\n",
       "      <th>Vandalism</th>\n",
       "      <td>1564.0</td>\n",
       "      <td>1395.0</td>\n",
       "      <td>1299.0</td>\n",
       "      <td>1336.0</td>\n",
       "      <td>1317.0</td>\n",
       "      <td>1464.0</td>\n",
       "      <td>1581.0</td>\n",
       "    </tr>\n",
       "    <tr>\n",
       "      <th>Verbal Disputes</th>\n",
       "      <td>1150.0</td>\n",
       "      <td>1104.0</td>\n",
       "      <td>1057.0</td>\n",
       "      <td>1034.0</td>\n",
       "      <td>1050.0</td>\n",
       "      <td>1031.0</td>\n",
       "      <td>1076.0</td>\n",
       "    </tr>\n",
       "    <tr>\n",
       "      <th>Violations</th>\n",
       "      <td>422.0</td>\n",
       "      <td>583.0</td>\n",
       "      <td>624.0</td>\n",
       "      <td>594.0</td>\n",
       "      <td>561.0</td>\n",
       "      <td>617.0</td>\n",
       "      <td>579.0</td>\n",
       "    </tr>\n",
       "    <tr>\n",
       "      <th>Warrant Arrests</th>\n",
       "      <td>379.0</td>\n",
       "      <td>747.0</td>\n",
       "      <td>864.0</td>\n",
       "      <td>813.0</td>\n",
       "      <td>836.0</td>\n",
       "      <td>746.0</td>\n",
       "      <td>488.0</td>\n",
       "    </tr>\n",
       "  </tbody>\n",
       "</table>\n",
       "<p>67 rows × 7 columns</p>\n",
       "</div>"
      ],
      "text/plain": [
       "                                  Sunday  Monday  Tuesday  Wednesday  \\\n",
       "Aggravated Assault                 750.0   613.0    640.0      612.0   \n",
       "Aircraft                             3.0     0.0      4.0        3.0   \n",
       "Arson                                9.0     7.0      6.0        7.0   \n",
       "Assembly or Gathering Violations   148.0    69.0     42.0       48.0   \n",
       "Auto Theft                         433.0   441.0    419.0      420.0   \n",
       "Auto Theft Recovery                 74.0    84.0     86.0      101.0   \n",
       "Ballistics                          98.0    84.0     86.0       70.0   \n",
       "Bomb Hoax                            2.0    12.0     10.0        8.0   \n",
       "Burglary - No Property Taken         0.0     1.0      1.0        0.0   \n",
       "Commercial Burglary                124.0   132.0    136.0      123.0   \n",
       "...                                  ...     ...      ...        ...   \n",
       "Robbery                            469.0   419.0    441.0      398.0   \n",
       "Search Warrants                     15.0    94.0    118.0      110.0   \n",
       "Service                             24.0    19.0     28.0       30.0   \n",
       "Sex Offender Registration           11.0    91.0    105.0       87.0   \n",
       "Simple Assault                    1470.0  1214.0   1265.0     1282.0   \n",
       "Towed                              878.0  1001.0    917.0      819.0   \n",
       "Vandalism                         1564.0  1395.0   1299.0     1336.0   \n",
       "Verbal Disputes                   1150.0  1104.0   1057.0     1034.0   \n",
       "Violations                         422.0   583.0    624.0      594.0   \n",
       "Warrant Arrests                    379.0   747.0    864.0      813.0   \n",
       "\n",
       "                                  Thursday  Friday  Saturday  \n",
       "Aggravated Assault                   685.0   671.0     776.0  \n",
       "Aircraft                               2.0     2.0       3.0  \n",
       "Arson                                 14.0     3.0      12.0  \n",
       "Assembly or Gathering Violations      42.0   105.0     224.0  \n",
       "Auto Theft                           426.0   446.0     411.0  \n",
       "Auto Theft Recovery                   99.0    91.0      77.0  \n",
       "Ballistics                            78.0    81.0     114.0  \n",
       "Bomb Hoax                             12.0    14.0       5.0  \n",
       "Burglary - No Property Taken           0.0     0.0       0.0  \n",
       "Commercial Burglary                  100.0   124.0     131.0  \n",
       "...                                    ...     ...       ...  \n",
       "Robbery                              425.0   480.0     417.0  \n",
       "Search Warrants                      120.0   104.0      47.0  \n",
       "Service                               20.0    17.0      28.0  \n",
       "Sex Offender Registration             72.0    61.0      18.0  \n",
       "Simple Assault                      1297.0  1444.0    1418.0  \n",
       "Towed                                960.0   913.0    1050.0  \n",
       "Vandalism                           1317.0  1464.0    1581.0  \n",
       "Verbal Disputes                     1050.0  1031.0    1076.0  \n",
       "Violations                           561.0   617.0     579.0  \n",
       "Warrant Arrests                      836.0   746.0     488.0  \n",
       "\n",
       "[67 rows x 7 columns]"
      ]
     },
     "execution_count": 27,
     "metadata": {},
     "output_type": "execute_result"
    }
   ],
   "source": [
    "daycount_by_crime_type"
   ]
  },
  {
   "cell_type": "code",
   "execution_count": 28,
   "metadata": {},
   "outputs": [
    {
     "data": {
      "text/plain": [
       "array(['Aggravated Assault', 'Aircraft', 'Arson',\n",
       "       'Assembly or Gathering Violations', 'Auto Theft',\n",
       "       'Auto Theft Recovery', 'Ballistics', 'Bomb Hoax',\n",
       "       'Burglary - No Property Taken', 'Commercial Burglary',\n",
       "       'Confidence Games', 'Counterfeiting', 'Criminal Harassment',\n",
       "       'Disorderly Conduct', 'Drug Violation', 'Embezzlement',\n",
       "       'Evading Fare', 'Explosives', 'Fire Related Reports',\n",
       "       'Firearm Discovery', 'Firearm Violations', 'Fraud', 'Gambling',\n",
       "       'HOME INVASION', 'HUMAN TRAFFICKING',\n",
       "       'HUMAN TRAFFICKING - INVOLUNTARY SERVITUDE', 'Harassment',\n",
       "       'Harbor Related Incidents', 'Homicide', 'Indecent Assault',\n",
       "       'Investigate Person', 'Investigate Property',\n",
       "       'Landlord/Tenant Disputes', 'Larceny', 'Larceny From Motor Vehicle',\n",
       "       'License Plate Related Incidents', 'License Violation',\n",
       "       'Liquor Violation', 'Manslaughter', 'Medical Assistance',\n",
       "       'Missing Person Located', 'Missing Person Reported',\n",
       "       'Motor Vehicle Accident Response',\n",
       "       'Offenses Against Child / Family', 'Operating Under the Influence',\n",
       "       'Other', 'Other Burglary', 'Phone Call Complaints',\n",
       "       'Police Service Incidents', 'Prisoner Related Incidents',\n",
       "       'Property Found', 'Property Lost', 'Property Related Damage',\n",
       "       'Prostitution', 'Recovered Stolen Property', 'Residential Burglary',\n",
       "       'Restraining Order Violations', 'Robbery', 'Search Warrants',\n",
       "       'Service', 'Sex Offender Registration', 'Simple Assault', 'Towed',\n",
       "       'Vandalism', 'Verbal Disputes', 'Violations', 'Warrant Arrests'], dtype=object)"
      ]
     },
     "execution_count": 28,
     "metadata": {},
     "output_type": "execute_result"
    }
   ],
   "source": [
    "daycount_by_crime_type.index.values"
   ]
  },
  {
   "cell_type": "markdown",
   "metadata": {},
   "source": [
    "## Calculate the chi-square statistic for daycount_by_crime_type:"
   ]
  },
  {
   "cell_type": "markdown",
   "metadata": {},
   "source": [
    "Calculte total incidents by crime group and store in a new dataframe:"
   ]
  },
  {
   "cell_type": "code",
   "execution_count": 29,
   "metadata": {
    "collapsed": true
   },
   "outputs": [],
   "source": [
    "daycount_contingency = daycount_by_crime_type.copy()\n",
    "daycount_contingency['Total'] = daycount_by_crime_type.sum(axis = 1)"
   ]
  },
  {
   "cell_type": "markdown",
   "metadata": {},
   "source": [
    "Keep only crime types with high frequency to calculate a valid chi-square statistic:"
   ]
  },
  {
   "cell_type": "code",
   "execution_count": 30,
   "metadata": {
    "collapsed": true
   },
   "outputs": [],
   "source": [
    "mask = daycount_contingency['Total'] > 200\n",
    "daycount_contingency_high = daycount_contingency[mask]"
   ]
  },
  {
   "cell_type": "markdown",
   "metadata": {},
   "source": [
    "Expected values per day (assuming equal likelihood for each crime by day of the week):"
   ]
  },
  {
   "cell_type": "code",
   "execution_count": 31,
   "metadata": {
    "collapsed": true
   },
   "outputs": [],
   "source": [
    "expected_per_day = daycount_contingency_high['Total']/7\n",
    "expected_per_day_rep = np.matlib.repmat(expected_per_day,7,1).T"
   ]
  },
  {
   "cell_type": "markdown",
   "metadata": {},
   "source": [
    "## Evaluate the chi_square cdf for the entire table:"
   ]
  },
  {
   "cell_type": "code",
   "execution_count": 32,
   "metadata": {
    "collapsed": true
   },
   "outputs": [],
   "source": [
    "daycount_contingency_high = daycount_contingency_high.drop('Total',axis = 1)\n",
    "chi_sq_all = ((daycount_contingency_high-expected_per_day_rep)**2)/expected_per_day_rep"
   ]
  },
  {
   "cell_type": "code",
   "execution_count": 33,
   "metadata": {},
   "outputs": [
    {
     "data": {
      "text/plain": [
       "1.0"
      ]
     },
     "execution_count": 33,
     "metadata": {},
     "output_type": "execute_result"
    }
   ],
   "source": [
    "chi_sq = chi_sq_all.sum(axis = 0).sum()\n",
    "df = chi_sq_all.shape[0]*(chi_sq_all.shape[1]-1)\n",
    "chi2.cdf(chi_sq,df)"
   ]
  },
  {
   "cell_type": "markdown",
   "metadata": {},
   "source": [
    "## Evaluate chi-square probability for each crime:"
   ]
  },
  {
   "cell_type": "code",
   "execution_count": 34,
   "metadata": {
    "collapsed": true
   },
   "outputs": [],
   "source": [
    "high_freq_crimes = daycount_contingency_high.index.values\n",
    "Chisq_pvals = pd.Series(index = high_freq_crimes)\n",
    "for crime_cat in high_freq_crimes:\n",
    "    x,pval = chisquare(daycount_contingency_high.ix[crime_cat,:])\n",
    "    Chisq_pvals[crime_cat] = pval"
   ]
  },
  {
   "cell_type": "markdown",
   "metadata": {},
   "source": [
    "Crimes were we could not reject the null hypothesis that frequency is equal for all days of the week:"
   ]
  },
  {
   "cell_type": "code",
   "execution_count": 35,
   "metadata": {},
   "outputs": [
    {
     "data": {
      "text/plain": [
       "Auto Theft                         0.897005\n",
       "Auto Theft Recovery                0.298488\n",
       "Commercial Burglary                0.348919\n",
       "Evading Fare                       0.161010\n",
       "Fire Related Reports               0.677822\n",
       "Indecent Assault                   0.357677\n",
       "Landlord/Tenant Disputes           0.372133\n",
       "License Plate Related Incidents    0.198753\n",
       "Offenses Against Child / Family    0.963676\n",
       "Other Burglary                     0.054581\n",
       "Property Found                     0.573039\n",
       "Property Related Damage            0.437518\n",
       "Restraining Order Violations       0.410786\n",
       "Robbery                            0.060107\n",
       "Verbal Disputes                    0.115522\n",
       "dtype: float64"
      ]
     },
     "execution_count": 35,
     "metadata": {},
     "output_type": "execute_result"
    }
   ],
   "source": [
    "Chisq_pvals[Chisq_pvals>0.05]"
   ]
  },
  {
   "cell_type": "code",
   "execution_count": 36,
   "metadata": {},
   "outputs": [
    {
     "data": {
      "text/plain": [
       "Aggravated Assault                   1.984159e-06\n",
       "Assembly or Gathering Violations     1.538282e-59\n",
       "Ballistics                           2.454613e-02\n",
       "Confidence Games                     1.453345e-13\n",
       "Counterfeiting                       1.382281e-08\n",
       "Disorderly Conduct                   1.618123e-02\n",
       "Drug Violation                      6.244796e-124\n",
       "Firearm Discovery                    1.909081e-02\n",
       "Firearm Violations                   6.173896e-06\n",
       "Fraud                                8.802437e-55\n",
       "                                        ...      \n",
       "Property Lost                        7.727684e-09\n",
       "Recovered Stolen Property            5.355879e-03\n",
       "Residential Burglary                 2.011935e-10\n",
       "Search Warrants                      9.033111e-22\n",
       "Sex Offender Registration            1.572768e-24\n",
       "Simple Assault                       4.468926e-08\n",
       "Towed                                1.010318e-06\n",
       "Vandalism                            1.593437e-10\n",
       "Violations                           7.092135e-09\n",
       "Warrant Arrests                      2.777564e-62\n",
       "dtype: float64"
      ]
     },
     "execution_count": 36,
     "metadata": {},
     "output_type": "execute_result"
    }
   ],
   "source": [
    "Chisq_pvals[Chisq_pvals<0.05]"
   ]
  },
  {
   "cell_type": "markdown",
   "metadata": {},
   "source": [
    "# Is there a relationship between the location of crimes and the location of street lights?"
   ]
  },
  {
   "cell_type": "markdown",
   "metadata": {},
   "source": [
    "## Load the street light data:"
   ]
  },
  {
   "cell_type": "code",
   "execution_count": 37,
   "metadata": {},
   "outputs": [],
   "source": [
    "lights = pd.read_csv('BostonCrime/streetlights.csv')"
   ]
  },
  {
   "cell_type": "markdown",
   "metadata": {},
   "source": [
    "## Scatter plot of street lights:"
   ]
  },
  {
   "cell_type": "markdown",
   "metadata": {},
   "source": [
    "There are no nans in this data:"
   ]
  },
  {
   "cell_type": "code",
   "execution_count": 38,
   "metadata": {},
   "outputs": [
    {
     "data": {
      "text/plain": [
       "0"
      ]
     },
     "execution_count": 38,
     "metadata": {},
     "output_type": "execute_result"
    }
   ],
   "source": [
    "sum(np.isnan(lights['Long'])|np.isnan(lights['Lat']))"
   ]
  },
  {
   "cell_type": "markdown",
   "metadata": {},
   "source": [
    "Overlay lights and crime:"
   ]
  },
  {
   "cell_type": "code",
   "execution_count": 39,
   "metadata": {},
   "outputs": [
    {
     "data": {
      "image/png": "[encoded data removed]",
      "text/plain": [
       "<matplotlib.figure.Figure at 0x120c4160>"
      ]
     },
     "metadata": {},
     "output_type": "display_data"
    }
   ],
   "source": [
    "#%matplotlib inline\n",
    "plt.scatter(x = lights.Long,y = lights.Lat, s= 0.1)\n",
    "plt.scatter(x = crime_goodcoords.Long,y = crime_goodcoords.Lat, s= 0.1,color = 'magenta')\n",
    "\n",
    "plt.xlabel('Longitude')\n",
    "plt.ylabel('Latitiude')\n",
    "plt.title('Crime and light scatter plot')\n",
    "plt.axis('equal')\n",
    "plt.show()\n",
    "\n"
   ]
  },
  {
   "cell_type": "markdown",
   "metadata": {},
   "source": [
    "## 2D histogram of lights across the city:"
   ]
  },
  {
   "cell_type": "code",
   "execution_count": 40,
   "metadata": {},
   "outputs": [
    {
     "data": {
      "text/plain": [
       "(-71.178673779999997,\n",
       " -70.963676149999998,\n",
       " 42.232413299999997,\n",
       " 42.395041579999997)"
      ]
     },
     "execution_count": 40,
     "metadata": {},
     "output_type": "execute_result"
    }
   ],
   "source": [
    "#%matplotlib inline\n",
    "histlight, x_edges1, y_edges1 = np.histogram2d(lights.Long,lights.Lat,bins = [x_edges, y_edges])#bins = [x_edges, y_edges]\n",
    "histlight = histlight.T\n",
    "X, Y = np.meshgrid(x_edges1,y_edges1)\n",
    "plt.pcolormesh(X, Y, histlight,cmap = 'jet')\n",
    "plt.xlabel('Long')\n",
    "plt.ylabel('Lat')\n",
    "plt.axis('equal')"
   ]
  },
  {
   "cell_type": "markdown",
   "metadata": {},
   "source": [
    "### A smoothed heat map:"
   ]
  },
  {
   "cell_type": "code",
   "execution_count": 41,
   "metadata": {},
   "outputs": [
    {
     "data": {
      "text/plain": [
       "<matplotlib.image.AxesImage at 0x11e92438>"
      ]
     },
     "execution_count": 41,
     "metadata": {},
     "output_type": "execute_result"
    }
   ],
   "source": [
    "#%matplotlib inline\n",
    "plt.axis('equal')\n",
    "plt.imshow(histlight, cmap = 'jet',origin = \"lower\", interpolation = \"gaussian\")"
   ]
  },
  {
   "cell_type": "markdown",
   "metadata": {},
   "source": [
    "### SNS can create a prettier heat map but it takes a little while to run:"
   ]
  },
  {
   "cell_type": "code",
   "execution_count": 42,
   "metadata": {},
   "outputs": [
    {
     "data": {
      "text/plain": [
       "'data = np.asarray([lights.Long,lights.Lat]).T\\nf, ax = plt.subplots(figsize=(7, 7))\\nsns.kdeplot(data, shade=True, ax=ax)'"
      ]
     },
     "execution_count": 42,
     "metadata": {},
     "output_type": "execute_result"
    }
   ],
   "source": [
    "'''data = np.asarray([lights.Long,lights.Lat]).T\n",
    "f, ax = plt.subplots(figsize=(7, 7))\n",
    "sns.kdeplot(data, shade=True, ax=ax)'''"
   ]
  },
  {
   "cell_type": "markdown",
   "metadata": {},
   "source": [
    "### Create a 3D barplot of streetlights. "
   ]
  },
  {
   "cell_type": "markdown",
   "metadata": {},
   "source": [
    "#### Color bars with less than one light as blue"
   ]
  },
  {
   "cell_type": "code",
   "execution_count": 77,
   "metadata": {},
   "outputs": [],
   "source": [
    "barcolors = ['b']*(dz.shape[0])\n",
    "type(barcolors)\n",
    "len(barcolors)\n",
    "mask = dz >= 1\n",
    "ind = np.arange(len(barcolors))\n",
    "redind = ind[mask]\n",
    "for i in redind:\n",
    "    barcolors[i] = 'r'"
   ]
  },
  {
   "cell_type": "code",
   "execution_count": 82,
   "metadata": {},
   "outputs": [
    {
     "name": "stdout",
     "output_type": "stream",
     "text": [
      "Using matplotlib backend: Qt5Agg\n"
     ]
    },
    {
     "data": {
      "text/plain": [
       "<mpl_toolkits.mplot3d.art3d.Poly3DCollection at 0x18f25048>"
      ]
     },
     "execution_count": 82,
     "metadata": {},
     "output_type": "execute_result"
    }
   ],
   "source": [
    "%matplotlib \n",
    "\n",
    "fig = plt.figure()\n",
    "ax = fig.add_subplot(111, projection='3d')\n",
    "xpos1, ypos1 = np.meshgrid(x_edges1[:-1], y_edges1[:-1])\n",
    "xpos1 = xpos1.flatten('F')\n",
    "ypos1 = ypos1.flatten('F')\n",
    "zpos1 = np.zeros_like(xpos1)\n",
    "\n",
    "# Construct arrays with the dimensions for the 16 bars.\n",
    "dx = 0.0025 * np.ones_like(zpos1)\n",
    "dy = dx.copy()\n",
    "dz = histlight.flatten('F')\n",
    "\n",
    "ax.bar3d(xpos1, ypos1, zpos1, dx, dy, dz, color=barcolors, zsort='average')\n",
    "#plt.show()"
   ]
  },
  {
   "cell_type": "code",
   "execution_count": 81,
   "metadata": {
    "scrolled": true
   },
   "outputs": [],
   "source": [
    "plt.close()"
   ]
  },
  {
   "cell_type": "code",
   "execution_count": null,
   "metadata": {
    "collapsed": true
   },
   "outputs": [],
   "source": []
  }
 ],
 "metadata": {
  "kernelspec": {
   "display_name": "Python 2",
   "language": "python",
   "name": "python2"
  },
  "language_info": {
   "codemirror_mode": {
    "name": "ipython",
    "version": 2
   },
   "file_extension": ".py",
   "mimetype": "text/x-python",
   "name": "python",
   "nbconvert_exporter": "python",
   "pygments_lexer": "ipython2",
   "version": "2.7.13"
  }
 },
 "nbformat": 4,
 "nbformat_minor": 2
}
